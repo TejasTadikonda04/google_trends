{
 "cells": [
  {
   "cell_type": "code",
   "execution_count": 4,
   "id": "78fdcb4c",
   "metadata": {},
   "outputs": [],
   "source": [
    "# Imports \n",
    "import pandas as pd\n",
    "from datetime import datetime\n",
    "import re"
   ]
  },
  {
   "cell_type": "code",
   "execution_count": null,
   "id": "0d6e0ca7",
   "metadata": {},
   "outputs": [
    {
     "name": "stdout",
     "output_type": "stream",
     "text": [
      "NaN values per column:\n",
      " region_name         0\n",
      "region_code         0\n",
      "term                0\n",
      "week                0\n",
      "score           18662\n",
      "refresh_date        0\n",
      "country_name        0\n",
      "rank                0\n",
      "country_code        0\n",
      "translate           0\n",
      "dtype: int64\n"
     ]
    }
   ],
   "source": [
    "# Read dataset\n",
    "df = pd.read_csv('./actualDataTeamProject.csv')"
   ]
  },
  {
   "cell_type": "code",
   "execution_count": null,
   "id": "f236c945",
   "metadata": {},
   "outputs": [],
   "source": [
    "# Check how many NaN values each column has\n",
    "nan_counts = df.isna().sum()\n",
    "print(\"NaN values per column:\\n\", nan_counts)"
   ]
  },
  {
   "cell_type": "code",
   "execution_count": 8,
   "id": "189497bb",
   "metadata": {},
   "outputs": [
    {
     "name": "stdout",
     "output_type": "stream",
     "text": [
      "{'week': {'valid': True, 'invalid_entries': []}, 'refresh_date': {'valid': True, 'invalid_entries': []}}\n"
     ]
    }
   ],
   "source": [
    "# Validate dates\n",
    "def validate_dates(df, columns):\n",
    "    results = {}\n",
    "\n",
    "    for col in columns:\n",
    "        invalid_rows = []\n",
    "        for i, value in enumerate(df[col]):\n",
    "            try:\n",
    "                datetime.strptime(str(value), '%Y-%m-%d')\n",
    "            except (ValueError, TypeError):\n",
    "                invalid_rows.append((i, value))\n",
    "        \n",
    "        results[col] = {\n",
    "            'valid': len(invalid_rows) == 0,\n",
    "            'invalid_entries': invalid_rows\n",
    "        }\n",
    "\n",
    "    return results\n",
    "\n",
    "\n",
    "df = pd.read_csv('./actualDataTeamProject.csv')\n",
    "\n",
    "columns_to_validate = ['week', 'refresh_date']  \n",
    "result = validate_dates(df, columns_to_validate)\n",
    "print(result)"
   ]
  },
  {
   "cell_type": "code",
   "execution_count": null,
   "id": "9b1e13c9",
   "metadata": {},
   "outputs": [
    {
     "name": "stdout",
     "output_type": "stream",
     "text": [
      "['Brazil' 'Belgium' 'India' 'Japan' 'United Kingdom' 'Indonesia'\n",
      " 'Thailand' 'Norway' 'South Korea' 'Italy' 'Malaysia' 'Portugal'\n",
      " 'Netherlands' 'Poland' 'Vietnam' 'Mexico' 'Nigeria' 'South Africa'\n",
      " 'Austria' 'Chile' 'Finland' 'Philippines' 'Canada' 'Spain' 'Germany'\n",
      " 'Colombia' 'Argentina' 'Taiwan' 'Czech Republic' 'New Zealand' 'France'\n",
      " 'Switzerland' 'Ukraine' 'Australia' 'Sweden' 'Saudi Arabia' 'Turkey'\n",
      " 'Egypt' 'Romania' 'Hungary' 'Denmark' 'Israel']\n",
      "['BR' 'BE' 'IN' 'JP' 'GB' 'ID' 'TH' 'NO' 'KR' 'IT' 'MY' 'PT' 'NL' 'PL'\n",
      " 'VN' 'MX' 'NG' 'ZA' 'AT' 'CL' 'FI' 'PH' 'CA' 'ES' 'DE' 'CO' 'AR' 'TW'\n",
      " 'CZ' 'NZ' 'FR' 'CH' 'UA' 'AU' 'SE' 'SA' 'TR' 'EG' 'RO' 'HU' 'DK' 'IL']\n"
     ]
    }
   ],
   "source": [
    "unique_values = df['country_name'].unique()\n",
    "\n",
    "print(unique_values)\n",
    "\n",
    "unique_values = df['country_code'].unique()\n",
    "\n",
    "print(unique_values)\n"
   ]
  },
  {
   "cell_type": "code",
   "execution_count": 14,
   "id": "b05b3822",
   "metadata": {},
   "outputs": [
    {
     "name": "stdout",
     "output_type": "stream",
     "text": [
      "Mismatched rows:\n",
      "Empty DataFrame\n",
      "Columns: [country_name, country_code, country_code_ref]\n",
      "Index: []\n",
      "Empty DataFrame\n",
      "Columns: [region_name, region_code, term, week, score, refresh_date, country_name, rank, country_code, translate, region_country_match]\n",
      "Index: []\n"
     ]
    }
   ],
   "source": [
    "country_reference = pd.DataFrame({\n",
    "    'country_name': ['Brazil', 'Belgium', 'India', 'Japan', 'United Kingdom', 'Indonesia',\n",
    "                     'Thailand', 'Norway', 'South Korea', 'Italy', 'Malaysia', 'Portugal',\n",
    "                     'Netherlands', 'Poland', 'Vietnam', 'Mexico', 'Nigeria', 'South Africa',\n",
    "                     'Austria', 'Chile', 'Finland', 'Philippines', 'Canada', 'Spain', 'Germany',\n",
    "                     'Colombia', 'Argentina', 'Taiwan', 'Czech Republic', 'New Zealand', 'France',\n",
    "                     'Switzerland', 'Ukraine', 'Australia', 'Sweden', 'Saudi Arabia', 'Turkey',\n",
    "                     'Egypt', 'Romania', 'Hungary', 'Denmark', 'Israel'],\n",
    "    \n",
    "    'country_code': ['BR', 'BE', 'IN', 'JP', 'GB', 'ID', 'TH', 'NO', 'KR', 'IT', 'MY', 'PT', 'NL', 'PL',\n",
    "                     'VN', 'MX', 'NG', 'ZA', 'AT', 'CL', 'FI', 'PH', 'CA', 'ES', 'DE', 'CO', 'AR', 'TW',\n",
    "                     'CZ', 'NZ', 'FR', 'CH', 'UA', 'AU', 'SE', 'SA', 'TR', 'EG', 'RO', 'HU', 'DK', 'IL']\n",
    "})\n",
    "\n",
    "merged = df.merge(country_reference, on='country_name', how='left', suffixes=('', '_ref'))\n",
    "\n",
    "mismatches = merged[merged['country_code'] != merged['country_code_ref']]\n",
    "\n",
    "print(\"Mismatched rows:\")\n",
    "print(mismatches[['country_name', 'country_code', 'country_code_ref']])\n",
    "\n",
    "df['region_country_match'] = df['region_code'].str[:2] == df['country_code']\n",
    "\n",
    "mismatches = df[~df['region_country_match']]\n",
    "\n",
    "print(mismatches)"
   ]
  }
 ],
 "metadata": {
  "kernelspec": {
   "display_name": "Python 3",
   "language": "python",
   "name": "python3"
  },
  "language_info": {
   "codemirror_mode": {
    "name": "ipython",
    "version": 3
   },
   "file_extension": ".py",
   "mimetype": "text/x-python",
   "name": "python",
   "nbconvert_exporter": "python",
   "pygments_lexer": "ipython3",
   "version": "3.11.4"
  }
 },
 "nbformat": 4,
 "nbformat_minor": 5
}
